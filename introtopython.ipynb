{
 "cells": [
  {
   "cell_type": "markdown",
   "id": "b9165049",
   "metadata": {},
   "source": [
    "Comments"
   ]
  },
  {
   "cell_type": "markdown",
   "id": "966e6904",
   "metadata": {},
   "source": []
  },
  {
   "cell_type": "markdown",
   "id": "9062e013",
   "metadata": {},
   "source": []
  },
  {
   "cell_type": "markdown",
   "id": "84abed05",
   "metadata": {},
   "source": []
  },
  {
   "cell_type": "code",
   "execution_count": 4,
   "id": "929cec05",
   "metadata": {},
   "outputs": [
    {
     "name": "stdout",
     "output_type": "stream",
     "text": [
      "Hello my name is saifullah khan\n"
     ]
    }
   ],
   "source": [
    "#Comments are written using the # symbol \n",
    "\n",
    "\"\"\"\n",
    "There is no way to write a multiline comment in python, you can write multiline comment in between three quotation marks.\n",
    "like the one written here, python will try to ignore the comments written in the three quotations.\n",
    "\"\"\"\n",
    "\n",
    "print(\"Hello my name is saifullah khan\")"
   ]
  },
  {
   "cell_type": "code",
   "execution_count": null,
   "id": "8f7447ac",
   "metadata": {},
   "outputs": [
    {
     "name": "stdout",
     "output_type": "stream",
     "text": [
      "my name is saifullah Khan\n",
      "my name is saifullah Khan\n"
     ]
    }
   ],
   "source": [
    "# Variables in python\n",
    "#Camel Case\n",
    "numberOfJugs = 5\n",
    "\n",
    "#Pascal Case\n",
    "NumberOfJugs = 5\n",
    "\n",
    "#Snake case\n",
    "number_of_jugs = 5\n",
    "\n",
    "#Type of a variable can be known using type casting\n",
    "\"\"\"\n",
    "var1 = 5\n",
    "var2 = \"Saifullah\"\n",
    "var3 = 5.5\n",
    "\n",
    "print(type(var1))\n",
    "print(type(var2))\n",
    "print(type(var3))\n",
    "\"\"\"\n",
    "\n",
    "\"\"\"\n",
    "#many values  variables\n",
    "x,y,z = 5,\"saif\",5.5\n",
    "print(x)\n",
    "print(y)\n",
    "print(z)\n",
    "\n",
    "#one value to many variables\n",
    "x=y=z = \"saif\"\n",
    "print(x)\n",
    "print(y)\n",
    "print(z)\n",
    "\"\"\"\n",
    "\n",
    "\"\"\"\n",
    "#Unpacking values in a list or tuple\n",
    "fruits = [\"banana\", \"apple\", \"mango\"]\n",
    "x,y,z = fruits\n",
    "print(x,y,z)\n",
    "\"\"\"\n",
    "\n",
    "\"\"\"\n",
    "\n",
    "x = \"saif\" #this x and y are global variables\n",
    "y = 1334\n",
    "\n",
    "def func():\n",
    "    print(\"my name is\",x,\"and my roll number is\",y)\n",
    "\n",
    "func()\n",
    "\"\"\"\n",
    "\n",
    "#When you create a variable that is only local for that function only, but if you want to make it global\n",
    "#you can do that using the global keyword\n",
    "\"\"\"\n",
    "x = \"saif\"\n",
    "\n",
    "def myfunc():\n",
    "    global x\n",
    "    x = \"saifullah Khan\" # You can also change the value of global variable using the global keyword\n",
    "    print(\"my name is\",x)\n",
    "\n",
    "myfunc()\n",
    "\n",
    "print(\"my name is\",x)\n",
    "\"\"\"\n",
    "\n",
    "\n"
   ]
  },
  {
   "cell_type": "markdown",
   "id": "5caa8cc2",
   "metadata": {},
   "source": [
    "Data Types in Python"
   ]
  },
  {
   "cell_type": "code",
   "execution_count": 20,
   "id": "66247804",
   "metadata": {},
   "outputs": [
    {
     "name": "stdout",
     "output_type": "stream",
     "text": [
      "(5.5+0j)\n",
      "5 5.5 (1+5j)\n",
      "5\n"
     ]
    }
   ],
   "source": [
    "#Python has different data types for their own sole purposes\n",
    "#int, float, complex these are for numeric data types\n",
    "x = int(5)\n",
    "y = float(5.5)\n",
    "z = complex(1+5j)\n",
    "\n",
    "print(complex(y))\n",
    "print(x,y,z)\n",
    "\n",
    "import random\n",
    "print(random.randrange(1,10)) #python doesn't have a random function but it has a random module. \n"
   ]
  },
  {
   "cell_type": "markdown",
   "id": "c7aadf40",
   "metadata": {},
   "source": [
    "String in Python"
   ]
  },
  {
   "cell_type": "code",
   "execution_count": null,
   "id": "758483cc",
   "metadata": {},
   "outputs": [
    {
     "name": "stdout",
     "output_type": "stream",
     "text": [
      "My na\n",
      "SAIFULLAH\n",
      "saifullah\n",
      "Saifullah\n",
      " Aizaz Khan \n",
      "['Saifullah', ' Aizaz', ' Khushal']\n",
      "My name is Saifullah Khan\n",
      "my name is Saifullah Khan and I'm 22\n"
     ]
    }
   ],
   "source": [
    "#String in python can be assigned to variables\n",
    "\"\"\"\n",
    "var = \"my name is saifullah\"\n",
    "if \"saifullah\" in var:        # basically we use the (in) to check if a certain word is present in the string\n",
    "    print(\"Saifullah is in the var\")      \n",
    "\"\"\"\n",
    "\n",
    "#Slicing in Python can be done using :\n",
    "var = \"My name is Saifullah Khan\"\n",
    "print(var[:5])\n",
    "\n",
    "#Converting a text to upper case or lower case\n",
    "var = \"Saifullah\"\n",
    "print(var.upper())\n",
    "print(var.lower())\n",
    "\n",
    "# removing whitespaces from front and end of a string\n",
    "str = \" Saifullah Khan \"\n",
    "print(var.strip())\n",
    "\n",
    "# replacing a certain word or character in a string can be done using the replace command\n",
    "print(str.replace(\"Saifullah\",\"Aizaz\"))\n",
    "\n",
    "#To split a string into a list you have to specify a seperator that will return a list form\n",
    "names = \"Saifullah, Aizaz, Khushal\"\n",
    "print(names.split(\",\"))\n",
    "\n",
    "#You can use + operator to concatenate to strings with each other\n",
    "str1 = \"My name is\"\n",
    "str2 = \"Saifullah Khan\"\n",
    "print(str1+\" \"+str2)\n",
    "\n",
    "#format strings\n",
    "# If you want to add a string followed by a number that can't be done using the usual strings\n",
    "#but you can do this now using the f-string just add the f command and a place holder {} for the variable you want\n",
    "# to add to the string\n",
    "\n",
    "age = 22\n",
    "str4 = f\"my name is Saifullah Khan and I'm {age}\" #you can add modifiers [:2f] or simple math or function in the place holder\n",
    "print(str4)\n",
    "\n"
   ]
  },
  {
   "cell_type": "markdown",
   "id": "7dd7a387",
   "metadata": {},
   "source": [
    "BOOLEAN"
   ]
  },
  {
   "cell_type": "code",
   "execution_count": 1,
   "id": "6dee7b14",
   "metadata": {},
   "outputs": [
    {
     "name": "stdout",
     "output_type": "stream",
     "text": [
      "True\n"
     ]
    }
   ],
   "source": [
    " #isintstance function checks if a value is true or not\n",
    "x = 100\n",
    "print(isinstance(x, int))\n"
   ]
  },
  {
   "cell_type": "markdown",
   "id": "70d0dac3",
   "metadata": {},
   "source": [
    "OPERATORS"
   ]
  },
  {
   "cell_type": "code",
   "execution_count": 5,
   "id": "6212d4af",
   "metadata": {},
   "outputs": [
    {
     "name": "stdout",
     "output_type": "stream",
     "text": [
      "Yes Khan is in Str\n"
     ]
    }
   ],
   "source": [
    "#Python has many operators we will skip the rest we will learn only those that are special only in python\n",
    "#Identity operator\n",
    "#is and is not\n",
    "x = 10\n",
    "y =11\n",
    "x is not y\n",
    "\n",
    "#Membership operator it is used to test if a sequence is presented in an object\n",
    "str = \"Saifullah Khan \"\n",
    "if(\"Khan\" in str):\n",
    "    print(\"Yes Khan is in Str\")\n"
   ]
  },
  {
   "cell_type": "markdown",
   "id": "bbb4192e",
   "metadata": {},
   "source": [
    "LISTS IN PYTHON"
   ]
  },
  {
   "cell_type": "code",
   "execution_count": null,
   "id": "d8d7b2ec",
   "metadata": {},
   "outputs": [
    {
     "name": "stdout",
     "output_type": "stream",
     "text": [
      "['Cherry', 'banana', 'apple']\n",
      "['Cherry', 'banana', 'apple']\n"
     ]
    }
   ],
   "source": [
    "\"\"\"\n",
    " Lists are used to store multiple items in a single variable.\n",
    "\n",
    "Lists are one of 4 built-in data types in Python used to store collections of data, the other 3 are Tuple, Set, and Dictionary, all with different qualities and usage.\n",
    "\n",
    "Lists are created using square brackets:\n",
    " \n",
    "mylist = [3,4,5]\n",
    "print(mylist)\n",
    "#Insert function used to insert new items in a list in a specified index without changing the others\n",
    "mlist = [\"apple\", \"banana\", \"cherry\"]\n",
    "mlist.insert(2,\"watermelon\")\n",
    "#Append function add's new values to the end of the list\n",
    "mlist.append(\"orange\")\n",
    "\n",
    "#Extend function is used to store the values of one list into another\n",
    "blist = [\"kiwi\", \"grape\"]\n",
    "mlist.extend(blist)\n",
    "\n",
    "#You can extend the values of any iterable datatype into another\n",
    "mtuple = (\"saif\", \"khan\")\n",
    "mlist.extend(mtuple)\n",
    "print(mlist)\n",
    "#Removing list items\n",
    "#Using remove function you can remove a specified item in the list\n",
    "mlist = [\"apple\", \"banana\", \"cherry\"]\n",
    "#mlist.remove(\"banana\") #if multiple values are present in the list then it will remove the value the comes first\n",
    "\n",
    "#Using POP function you can remove the items in list by specifying it's index number, but if not specified end item is removed\n",
    "#mlist.pop(1)\n",
    "\n",
    "#Using del function you can also remove the items of a list, you can also remove the whole list \n",
    "#del mlist[0]\n",
    "\n",
    "#Using the clear function you can clear the content of the list but the list remains\n",
    "#mlist.clear()\n",
    "\n",
    "#LOOPING THROUGH LISTS\n",
    "\n",
    "for x in mlist:\n",
    "    print(x)\n",
    "\n",
    "for i in range(len(mlist)):\n",
    "    print(mlist[i])\n",
    "\n",
    "#using while loop\n",
    "i=0\n",
    "while i<len(mlist):\n",
    "    print(mlist[i])\n",
    "    i=i+1\n",
    "\n",
    "#Using list comprehension\n",
    "[print(x) for x in mlist]\n",
    "mlist = [\"apple\", \"banana\", \"cherry\"]\n",
    "#List Comprehension: You can create  a new list based on the existing one with certain expression and conditions that must \n",
    "# be satisfied, and fewer line of code is written leading to more code clarity\n",
    "\n",
    "newlist = [x if x ==\"banana\" else \"orange\" for x in mlist]\n",
    "print(newlist)\n",
    "\n",
    "#SORTING LISTS\n",
    "#You can sort the lists using the sort command\n",
    "#it will sort all the values in alphanumerical order, in case of strings Capitals followed by smalls\n",
    "#mlist.sort()\n",
    "#If you want to make sure that case insensitive is followed for all capital or small, you can use the key command\n",
    "#mlist.sort(reverse = True) #To print in descending order\n",
    "#mlist.sort(key = str.lower)\n",
    "mlist.reverse()\n",
    "print(mlist)\n",
    "\n",
    "#Copying a list\n",
    "#for copying a list you can use three methods because if you type list1 = list2 it is not a copy instead it is reference of list2 to list1\n",
    "# There are three methods for copying a list\n",
    "#1. copy method: You can use the builtin copy method to copy a list\n",
    "#thislist = mlist.copy()\n",
    "\n",
    "#2. list() method\n",
    "#thislist = list(mlist)\n",
    "\n",
    "#3. slice operator: you can use [:] to copy a list\n",
    "thislist = mlist[:]\n",
    "print(thislist)\n",
    "\"\"\"\n",
    "\n",
    "mlist = [\"apple\", \"banana\", \"Cherry\"]\n",
    "\n",
    "\n"
   ]
  },
  {
   "cell_type": "markdown",
   "id": "2cd433f9",
   "metadata": {},
   "source": [
    "TUPLES IN PYTHON"
   ]
  },
  {
   "cell_type": "code",
   "execution_count": 50,
   "id": "e2832622",
   "metadata": {},
   "outputs": [
    {
     "name": "stdout",
     "output_type": "stream",
     "text": [
      "<class 'tuple'>\n",
      "('saifullah', 'Khan')\n",
      "('saifullah', 'Khan', 'safi')\n",
      "safi\n",
      "1\n",
      "[2, 3, 4, 5, 6, 7, 8]\n",
      "9\n"
     ]
    }
   ],
   "source": [
    "#Tuples are ordered and unchangeable (once created can't be changed) dataypes, allows duplicate values because it is indexed\n",
    "# You can also create tuple using the tuple constructor\n",
    "# when creating tuple with a single element you have to add a comma at the end, else python will not recognize it as a tuple\n",
    "mtuple = (\"saifullah\", \"kahn\")\n",
    "print(type(mtuple))\n",
    "\n",
    "#UPDATING A TUPLE: You can't update a tuple after it's creation, but you can change it by converting tuple to a list\n",
    "# and then converting that list to a tuple\n",
    "mlist = list(mtuple)\n",
    "mlist[1] = \"Khan\"\n",
    "mtuple = tuple(mlist)\n",
    "print(mtuple)\n",
    "\n",
    "#For appending and removing you can also do by converting to list, changing and then revert to tuple\n",
    "# you can add the values of two tuples to a new one\n",
    "ntuple = (\"safi\",)\n",
    "newtuple = mtuple+ntuple\n",
    "print(newtuple)\n",
    "\n",
    "#UNPACKING TUPLE: Basically in tuple you are packing values, you can unpack the values to variables if you need\n",
    "# there are two methods to unpacking values\n",
    "# 1. You can unpack the values if the values in tuple matches the variables\n",
    "(first,middle, last) = newtuple\n",
    "print(last)\n",
    "\n",
    "# 2. If the number of variables do not match you can use the asterisk * to add the remaining values to the variable as list\n",
    "tup1 = (1,2,3,4,5,6,7,8,9)\n",
    "(a,*b,c) = tup1\n",
    "print(a)\n",
    "print(b)\n",
    "print(c)\n"
   ]
  },
  {
   "cell_type": "markdown",
   "id": "ef6f9660",
   "metadata": {},
   "source": [
    "SETS IN PYTHON"
   ]
  },
  {
   "cell_type": "code",
   "execution_count": 66,
   "id": "9c12d5f5",
   "metadata": {},
   "outputs": [
    {
     "name": "stdout",
     "output_type": "stream",
     "text": [
      "{'Khan', 'Saif', 'saifullah', 'Ullah', 'Safi'}\n",
      "{'Saif', 'saifullah', 'Ullah', 'Safi'}\n",
      "{'banana', 'cherry'}\n",
      "{'banana', 'melon', 'cherry', 'orange'}\n"
     ]
    }
   ],
   "source": [
    "#Sets are unordered, unchangeable( with the exception that you can add or remove values) and allows no duplicate values\n",
    "# true and 1, false and 0 are considered same in set\n",
    "set1 = {\"Saif\",\"Ullah\",\"Khan\"}\n",
    "\n",
    "#You can't access the set using index because set doesn't follow a fix order\n",
    "# You can access using loops or check for a value in set\n",
    "\n",
    "#You can add items to a set using the add method or update method\n",
    "set1.add(\"Safi\")\n",
    "\n",
    "#You can also add the values of two sets or any iterable using update method\n",
    "set1.update(mlist)\n",
    "print(set1)\n",
    "\n",
    "#For removing values you can use remove or discard methods\n",
    "set1.discard(\"Khan\")\n",
    "print(set1)\n",
    "\n",
    "#There are several methods for joining sets\n",
    "#1. Union (|): You can use union amoung any iterables but you can use | only amoung sets\n",
    "seta = set((\"apple\",\"banana\",\"cherry\"))\n",
    "setb = set((\"orange\",\"apple\",\"melon\"))\n",
    "\n",
    "newset = seta | setb\n",
    "\n",
    "# 2. Intersection (&): This will give the values that are local to both sets\n",
    "newset = seta & setb\n",
    "\n",
    "# 3. Difference (-): This will give all the values from first set that are not present in the second set\n",
    "newset = seta - setb\n",
    "print(newset)\n",
    "\n",
    "# 4. Symmetric difference (^): It will only keeps the values that are not present in both the sets\n",
    "newset = seta ^ setb\n",
    "print(newset)"
   ]
  },
  {
   "cell_type": "markdown",
   "id": "3b1c9b83",
   "metadata": {},
   "source": [
    "DICTIONARY IN PYTHON"
   ]
  },
  {
   "cell_type": "code",
   "execution_count": 97,
   "id": "d7fe2d8f",
   "metadata": {},
   "outputs": [
    {
     "name": "stdout",
     "output_type": "stream",
     "text": [
      "{'name': 'Saifullah', 'age': 22, 'height': 5.7, 'books': ['khan', 'safi']}\n",
      "dict_items([('name', 'Saifullah'), ('age', 22), ('height', 5.7), ('books', ['khan', 'safi'])])\n",
      "{'name': 'Safi', 'age': 22, 'height': 5.7, 'books': ['khan', 'safi']}\n",
      "{}\n",
      "{'child1': {'name': 'saif', 'age': 22}, 'child2': {'name': 'aizaz', 'age': 15}}\n",
      "{'car1': {'name': 'Nissan', 'model': 2004}, 'car2': {'name': 'honda', 'model': 2003}}\n",
      "honda\n",
      "name: Nissan\n",
      "model: 2004\n",
      "name: honda\n",
      "model: 2003\n"
     ]
    }
   ],
   "source": [
    "#Dictionary are ordered, changable datatypes, dictionary doesn't allow duplicate values. Duplicate value will overwrite the other.\n",
    "# dictionary works in key value pair, you can use key to access the item\n",
    "mydict = {\n",
    "    \"name\":\"Saifullah\",\n",
    "    \"age\": 22,\n",
    "    \"height\": 5.7,\n",
    "    \"books\": [\"khan\",\"safi\"]\n",
    "}\n",
    "\n",
    "print(mydict)\n",
    "\n",
    "#Accessing items in a dictionary can be done using \n",
    "x = mydict[\"name\"] # bracket form\n",
    "\n",
    "x = mydict.get(\"name\") # using get method\n",
    "\n",
    "x = mydict.keys() #this well return al list of all the keys in the dictionary\n",
    "\n",
    "x  = mydict.values() #this will return a list of all the values in the dictionary\n",
    "\n",
    "x = mydict.items() #this command will return a list of tuples of all the key value pairs present in the dictionary\n",
    "\n",
    "print(x)\n",
    "\n",
    "#Updating or changing values in a list\n",
    "mydict.update({\"name\":\"Safi\"})\n",
    "print(mydict)\n",
    "\n",
    "#Removing a value from the dictionary: can be done using the bracket index form\n",
    "#mydict.pop(\"name\") #Using pop method specify the key you want to remove\n",
    "mydict.popitem() # this will remove the last entered item from the dictionary\n",
    "mydict.clear()\n",
    "print(mydict)\n",
    "\n",
    "#Nested Dictionary\n",
    "myfamily = {\n",
    "    \"child1\":{\n",
    "        \"name\":\"saif\",\n",
    "        \"age\": 22\n",
    "    },\n",
    "    \"child2\":{\n",
    "        \"name\":\"aizaz\",\n",
    "        \"age\":15            \n",
    "    }\n",
    "}\n",
    "\n",
    "print(myfamily)\n",
    "\n",
    "#or you can also make nested Dictionary like this\n",
    "car1 = {\n",
    "    \"name\": \"Nissan\",\n",
    "    \"model\": 2004\n",
    "}\n",
    "\n",
    "car2 = {\n",
    "    \"name\": \"honda\",\n",
    "    \"model\": 2003\n",
    "}\n",
    "\n",
    "mycars = {\n",
    "    \"car1\": car1,\n",
    "    \"car2\": car2\n",
    "}\n",
    "\n",
    "print(mycars)\n",
    "\n",
    "#How to access items in nested dicts\n",
    "print(mycars[\"car2\"][\"name\"])\n",
    "\n",
    "#How to loop in nested dictionary\n",
    "for x, obj in mycars.items():\n",
    "    for y in obj:\n",
    "        print(y+\":\",obj[y])"
   ]
  },
  {
   "cell_type": "markdown",
   "id": "827e6267",
   "metadata": {},
   "source": [
    "IF STATEMENTS IN PYTHON"
   ]
  },
  {
   "cell_type": "code",
   "execution_count": 7,
   "id": "b15c8ce3",
   "metadata": {},
   "outputs": [
    {
     "name": "stdout",
     "output_type": "stream",
     "text": [
      "yes a is greater then b\n",
      "=\n",
      "both are greater\n",
      "greater\n"
     ]
    }
   ],
   "source": [
    "#If statements work on the logical statements of the maths\\\n",
    "a = 4\n",
    "b = 3\n",
    "if a >=b:\n",
    "    print(\"yes a is greater then b\")\n",
    "elif a<b:\n",
    "    print(\"a is less then b\")\n",
    "else:\n",
    "    print(\"Error in this statements\")\n",
    "\n",
    "num1 = 10\n",
    "num2 = 10\n",
    "print(\"a is greater the b\") if num1>num2 else print(\"=\") if num1==num2 else print(\"a is less then b\")\n",
    "\n",
    "#And and or statements can be used in if statements if more then one conditions are necessary to be satisfied\n",
    "if num1>=num2 and a>b:\n",
    "    print(\"both are greater\")\\\n",
    "    \n",
    "#If statements: you can have if statements inside another if statement\n",
    "if a>b:\n",
    "    if num1>=num2:\n",
    "        print(\"greater\")\n",
    "    else:\n",
    "        print(\"less\")\n",
    "else:\n",
    "    print(\"some kind of error in the code\")\n",
    "\n",
    "\n",
    "#You can put pass statement inside an if statement to avoid getting error\n",
    "if a>b:\n",
    "    pass\n"
   ]
  }
 ],
 "metadata": {
  "kernelspec": {
   "display_name": "base",
   "language": "python",
   "name": "python3"
  },
  "language_info": {
   "codemirror_mode": {
    "name": "ipython",
    "version": 3
   },
   "file_extension": ".py",
   "mimetype": "text/x-python",
   "name": "python",
   "nbconvert_exporter": "python",
   "pygments_lexer": "ipython3",
   "version": "3.12.4"
  }
 },
 "nbformat": 4,
 "nbformat_minor": 5
}

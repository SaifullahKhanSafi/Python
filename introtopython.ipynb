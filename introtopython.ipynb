{
 "cells": [
  {
   "cell_type": "markdown",
   "id": "b9165049",
   "metadata": {},
   "source": [
    "Comments"
   ]
  },
  {
   "cell_type": "markdown",
   "id": "9062e013",
   "metadata": {},
   "source": []
  },
  {
   "cell_type": "markdown",
   "id": "84abed05",
   "metadata": {},
   "source": []
  },
  {
   "cell_type": "code",
   "execution_count": 4,
   "id": "929cec05",
   "metadata": {},
   "outputs": [
    {
     "name": "stdout",
     "output_type": "stream",
     "text": [
      "Hello my name is saifullah khan\n"
     ]
    }
   ],
   "source": [
    "#Comments are written using the # symbol \n",
    "\n",
    "\"\"\"\n",
    "There is no way to write a multiline comment in python, you can write multiline comment in between three quotation marks.\n",
    "like the one written here, python will try to ignore the comments written in the three quotations.\n",
    "\"\"\"\n",
    "\n",
    "print(\"Hello my name is saifullah khan\")"
   ]
  },
  {
   "cell_type": "code",
   "execution_count": null,
   "id": "8f7447ac",
   "metadata": {},
   "outputs": [
    {
     "name": "stdout",
     "output_type": "stream",
     "text": [
      "my name is saifullah Khan\n",
      "my name is saifullah Khan\n"
     ]
    }
   ],
   "source": [
    "# Variables in python\n",
    "#Camel Case\n",
    "numberOfJugs = 5\n",
    "\n",
    "#Pascal Case\n",
    "NumberOfJugs = 5\n",
    "\n",
    "#Snake case\n",
    "number_of_jugs = 5\n",
    "\n",
    "#Type of a variable can be known using type casting\n",
    "\"\"\"\n",
    "var1 = 5\n",
    "var2 = \"Saifullah\"\n",
    "var3 = 5.5\n",
    "\n",
    "print(type(var1))\n",
    "print(type(var2))\n",
    "print(type(var3))\n",
    "\"\"\"\n",
    "\n",
    "\"\"\"\n",
    "#many values  variables\n",
    "x,y,z = 5,\"saif\",5.5\n",
    "print(x)\n",
    "print(y)\n",
    "print(z)\n",
    "\n",
    "#one value to many variables\n",
    "x=y=z = \"saif\"\n",
    "print(x)\n",
    "print(y)\n",
    "print(z)\n",
    "\"\"\"\n",
    "\n",
    "\"\"\"\n",
    "#Unpacking values in a list or tuple\n",
    "fruits = [\"banana\", \"apple\", \"mango\"]\n",
    "x,y,z = fruits\n",
    "print(x,y,z)\n",
    "\"\"\"\n",
    "\n",
    "\"\"\"\n",
    "\n",
    "x = \"saif\" #this x and y are global variables\n",
    "y = 1334\n",
    "\n",
    "def func():\n",
    "    print(\"my name is\",x,\"and my roll number is\",y)\n",
    "\n",
    "func()\n",
    "\"\"\"\n",
    "\n",
    "#When you create a variable that is only local for that function only, but if you want to make it global\n",
    "#you can do that using the global keyword\n",
    "\"\"\"\n",
    "x = \"saif\"\n",
    "\n",
    "def myfunc():\n",
    "    global x\n",
    "    x = \"saifullah Khan\" # You can also change the value of global variable using the global keyword\n",
    "    print(\"my name is\",x)\n",
    "\n",
    "myfunc()\n",
    "\n",
    "print(\"my name is\",x)\n",
    "\"\"\"\n",
    "\n",
    "\n"
   ]
  },
  {
   "cell_type": "markdown",
   "id": "5caa8cc2",
   "metadata": {},
   "source": [
    "Data Types in Python"
   ]
  },
  {
   "cell_type": "code",
   "execution_count": 20,
   "id": "66247804",
   "metadata": {},
   "outputs": [
    {
     "name": "stdout",
     "output_type": "stream",
     "text": [
      "(5.5+0j)\n",
      "5 5.5 (1+5j)\n",
      "5\n"
     ]
    }
   ],
   "source": [
    "#Python has different data types for their own sole purposes\n",
    "#int, float, complex these are for numeric data types\n",
    "x = int(5)\n",
    "y = float(5.5)\n",
    "z = complex(1+5j)\n",
    "\n",
    "print(complex(y))\n",
    "print(x,y,z)\n",
    "\n",
    "import random\n",
    "print(random.randrange(1,10)) #python doesn't have a random function but it has a random module. \n"
   ]
  },
  {
   "cell_type": "markdown",
   "id": "c7aadf40",
   "metadata": {},
   "source": [
    "String in Python"
   ]
  },
  {
   "cell_type": "code",
   "execution_count": null,
   "id": "758483cc",
   "metadata": {},
   "outputs": [
    {
     "name": "stdout",
     "output_type": "stream",
     "text": [
      "My na\n",
      "SAIFULLAH\n",
      "saifullah\n",
      "Saifullah\n",
      " Aizaz Khan \n",
      "['Saifullah', ' Aizaz', ' Khushal']\n",
      "My name is Saifullah Khan\n",
      "my name is Saifullah Khan and I'm 22\n"
     ]
    }
   ],
   "source": [
    "#String in python can be assigned to variables\n",
    "\"\"\"\n",
    "var = \"my name is saifullah\"\n",
    "if \"saifullah\" in var:        # basically we use the (in) to check if a certain word is present in the string\n",
    "    print(\"Saifullah is in the var\")      \n",
    "\"\"\"\n",
    "\n",
    "#Slicing in Python can be done using :\n",
    "var = \"My name is Saifullah Khan\"\n",
    "print(var[:5])\n",
    "\n",
    "#Converting a text to upper case or lower case\n",
    "var = \"Saifullah\"\n",
    "print(var.upper())\n",
    "print(var.lower())\n",
    "\n",
    "# removing whitespaces from front and end of a string\n",
    "str = \" Saifullah Khan \"\n",
    "print(var.strip())\n",
    "\n",
    "# replacing a certain word or character in a string can be done using the replace command\n",
    "print(str.replace(\"Saifullah\",\"Aizaz\"))\n",
    "\n",
    "#To split a string into a list you have to specify a seperator that will return a list form\n",
    "names = \"Saifullah, Aizaz, Khushal\"\n",
    "print(names.split(\",\"))\n",
    "\n",
    "#You can use + operator to concatenate to strings with each other\n",
    "str1 = \"My name is\"\n",
    "str2 = \"Saifullah Khan\"\n",
    "print(str1+\" \"+str2)\n",
    "\n",
    "#format strings\n",
    "# If you want to add a string followed by a number that can't be done using the usual strings\n",
    "#but you can do this now using the f-string just add the f command and a place holder {} for the variable you want\n",
    "# to add to the string\n",
    "\n",
    "age = 22\n",
    "str4 = f\"my name is Saifullah Khan and I'm {age}\" #you can add modifiers [:2f] or simple math or function in the place holder\n",
    "print(str4)\n",
    "\n"
   ]
  },
  {
   "cell_type": "markdown",
   "id": "7dd7a387",
   "metadata": {},
   "source": [
    "BOOLEAN"
   ]
  },
  {
   "cell_type": "code",
   "execution_count": 1,
   "id": "6dee7b14",
   "metadata": {},
   "outputs": [
    {
     "name": "stdout",
     "output_type": "stream",
     "text": [
      "True\n"
     ]
    }
   ],
   "source": [
    " #isintstance function checks if a value is true or not\n",
    "x = 100\n",
    "print(isinstance(x, int))\n"
   ]
  },
  {
   "cell_type": "markdown",
   "id": "70d0dac3",
   "metadata": {},
   "source": [
    "OPERATORS"
   ]
  },
  {
   "cell_type": "code",
   "execution_count": 5,
   "id": "6212d4af",
   "metadata": {},
   "outputs": [
    {
     "name": "stdout",
     "output_type": "stream",
     "text": [
      "Yes Khan is in Str\n"
     ]
    }
   ],
   "source": [
    "#Python has many operators we will skip the rest we will learn only those that are special only in python\n",
    "#Identity operator\n",
    "#is and is not\n",
    "x = 10\n",
    "y =11\n",
    "x is not y\n",
    "\n",
    "#Membership operator it is used to test if a sequence is presented in an object\n",
    "str = \"Saifullah Khan \"\n",
    "if(\"Khan\" in str):\n",
    "    print(\"Yes Khan is in Str\")\n"
   ]
  },
  {
   "cell_type": "markdown",
   "id": "bbb4192e",
   "metadata": {},
   "source": [
    "LISTS IN PYTHON"
   ]
  },
  {
   "cell_type": "code",
   "execution_count": 38,
   "id": "d8d7b2ec",
   "metadata": {},
   "outputs": [
    {
     "name": "stdout",
     "output_type": "stream",
     "text": [
      "['Cherry', 'banana', 'apple']\n"
     ]
    }
   ],
   "source": [
    "\"\"\"\n",
    " Lists are used to store multiple items in a single variable.\n",
    "\n",
    "Lists are one of 4 built-in data types in Python used to store collections of data, the other 3 are Tuple, Set, and Dictionary, all with different qualities and usage.\n",
    "\n",
    "Lists are created using square brackets:\n",
    " \n",
    "mylist = [3,4,5]\n",
    "print(mylist)\n",
    "#Insert function used to insert new items in a list in a specified index without changing the others\n",
    "mlist = [\"apple\", \"banana\", \"cherry\"]\n",
    "mlist.insert(2,\"watermelon\")\n",
    "#Append function add's new values to the end of the list\n",
    "mlist.append(\"orange\")\n",
    "\n",
    "#Extend function is used to store the values of one list into another\n",
    "blist = [\"kiwi\", \"grape\"]\n",
    "mlist.extend(blist)\n",
    "\n",
    "#You can extend the values of any iterable datatype into another\n",
    "mtuple = (\"saif\", \"khan\")\n",
    "mlist.extend(mtuple)\n",
    "print(mlist)\n",
    "#Removing list items\n",
    "#Using remove function you can remove a specified item in the list\n",
    "mlist = [\"apple\", \"banana\", \"cherry\"]\n",
    "#mlist.remove(\"banana\") #if multiple values are present in the list then it will remove the value the comes first\n",
    "\n",
    "#Using POP function you can remove the items in list by specifying it's index number, but if not specified end item is removed\n",
    "#mlist.pop(1)\n",
    "\n",
    "#Using del function you can also remove the items of a list, you can also remove the whole list \n",
    "#del mlist[0]\n",
    "\n",
    "#Using the clear function you can clear the content of the list but the list remains\n",
    "#mlist.clear()\n",
    "\n",
    "#LOOPING THROUGH LISTS\n",
    "\n",
    "for x in mlist:\n",
    "    print(x)\n",
    "\n",
    "for i in range(len(mlist)):\n",
    "    print(mlist[i])\n",
    "\n",
    "#using while loop\n",
    "i=0\n",
    "while i<len(mlist):\n",
    "    print(mlist[i])\n",
    "    i=i+1\n",
    "\n",
    "#Using list comprehension\n",
    "[print(x) for x in mlist]\n",
    "mlist = [\"apple\", \"banana\", \"cherry\"]\n",
    "#List Comprehension: You can create  a new list based on the existing one with certain expression and conditions that must \n",
    "# be satisfied, and fewer line of code is written leading to more code clarity\n",
    "\n",
    "newlist = [x if x ==\"banana\" else \"orange\" for x in mlist]\n",
    "print(newlist)\n",
    "\"\"\"\n",
    "\n",
    "mlist = [\"apple\", \"banana\", \"Cherry\"]\n",
    "\n",
    "#SORTING LISTS\n",
    "#You can sort the lists using the sort command\n",
    "#it will sort all the values in alphanumerical order, in case of strings Capitals followed by smalls\n",
    "#mlist.sort()\n",
    "#If you want to make sure that case insensitive is followed for all capital or small, you can use the key command\n",
    "#mlist.sort(reverse = True) #To print in descending order\n",
    "#mlist.sort(key = str.lower)\n",
    "mlist.reverse()\n",
    "print(mlist)\n",
    "\n",
    "\n"
   ]
  }
 ],
 "metadata": {
  "kernelspec": {
   "display_name": "base",
   "language": "python",
   "name": "python3"
  },
  "language_info": {
   "codemirror_mode": {
    "name": "ipython",
    "version": 3
   },
   "file_extension": ".py",
   "mimetype": "text/x-python",
   "name": "python",
   "nbconvert_exporter": "python",
   "pygments_lexer": "ipython3",
   "version": "3.12.4"
  }
 },
 "nbformat": 4,
 "nbformat_minor": 5
}

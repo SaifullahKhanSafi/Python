{
 "cells": [
  {
   "cell_type": "markdown",
   "id": "b9165049",
   "metadata": {},
   "source": [
    "Comments"
   ]
  },
  {
   "cell_type": "code",
   "execution_count": 4,
   "id": "929cec05",
   "metadata": {},
   "outputs": [
    {
     "name": "stdout",
     "output_type": "stream",
     "text": [
      "Hello my name is saifullah khan\n"
     ]
    }
   ],
   "source": [
    "#Comments are written using the # symbol \n",
    "\n",
    "\"\"\"\n",
    "There is no way to write a multiline comment in python, you can write multiline comment in between three quotation marks.\n",
    "like the one written here, python will try to ignore the comments written in the three quotations.\n",
    "\"\"\"\n",
    "\n",
    "print(\"Hello my name is saifullah khan\")"
   ]
  },
  {
   "cell_type": "code",
   "execution_count": null,
   "id": "8f7447ac",
   "metadata": {},
   "outputs": [
    {
     "name": "stdout",
     "output_type": "stream",
     "text": [
      "my name is saifullah Khan\n",
      "my name is saifullah Khan\n"
     ]
    }
   ],
   "source": [
    "# Variables in python\n",
    "#Camel Case\n",
    "numberOfJugs = 5\n",
    "\n",
    "#Pascal Case\n",
    "NumberOfJugs = 5\n",
    "\n",
    "#Snake case\n",
    "number_of_jugs = 5\n",
    "\n",
    "#Type of a variable can be known using type casting\n",
    "\"\"\"\n",
    "var1 = 5\n",
    "var2 = \"Saifullah\"\n",
    "var3 = 5.5\n",
    "\n",
    "print(type(var1))\n",
    "print(type(var2))\n",
    "print(type(var3))\n",
    "\"\"\"\n",
    "\n",
    "\"\"\"\n",
    "#many values  variables\n",
    "x,y,z = 5,\"saif\",5.5\n",
    "print(x)\n",
    "print(y)\n",
    "print(z)\n",
    "\n",
    "#one value to many variables\n",
    "x=y=z = \"saif\"\n",
    "print(x)\n",
    "print(y)\n",
    "print(z)\n",
    "\"\"\"\n",
    "\n",
    "\"\"\"\n",
    "#Unpacking values in a list or tuple\n",
    "fruits = [\"banana\", \"apple\", \"mango\"]\n",
    "x,y,z = fruits\n",
    "print(x,y,z)\n",
    "\"\"\"\n",
    "\n",
    "\"\"\"\n",
    "\n",
    "x = \"saif\" #this x and y are global variables\n",
    "y = 1334\n",
    "\n",
    "def func():\n",
    "    print(\"my name is\",x,\"and my roll number is\",y)\n",
    "\n",
    "func()\n",
    "\"\"\"\n",
    "\n",
    "#When you create a variable that is only local for that function only, but if you want to make it global\n",
    "#you can do that using the global keyword\n",
    "\"\"\"\n",
    "x = \"saif\"\n",
    "\n",
    "def myfunc():\n",
    "    global x\n",
    "    x = \"saifullah Khan\" # You can also change the value of global variable using the global keyword\n",
    "    print(\"my name is\",x)\n",
    "\n",
    "myfunc()\n",
    "\n",
    "print(\"my name is\",x)\n",
    "\"\"\"\n",
    "\n",
    "\n"
   ]
  },
  {
   "cell_type": "markdown",
   "id": "5caa8cc2",
   "metadata": {},
   "source": [
    "Data Types in Python"
   ]
  },
  {
   "cell_type": "code",
   "execution_count": 20,
   "id": "66247804",
   "metadata": {},
   "outputs": [
    {
     "name": "stdout",
     "output_type": "stream",
     "text": [
      "(5.5+0j)\n",
      "5 5.5 (1+5j)\n",
      "5\n"
     ]
    }
   ],
   "source": [
    "#Python has different data types for their own sole purposes\n",
    "#int, float, complex these are for numeric data types\n",
    "x = int(5)\n",
    "y = float(5.5)\n",
    "z = complex(1+5j)\n",
    "\n",
    "print(complex(y))\n",
    "print(x,y,z)\n",
    "\n",
    "import random\n",
    "print(random.randrange(1,10)) #python doesn't have a random function but it has a random module. \n"
   ]
  },
  {
   "cell_type": "markdown",
   "id": "c7aadf40",
   "metadata": {},
   "source": [
    "String in Python"
   ]
  },
  {
   "cell_type": "code",
   "execution_count": null,
   "id": "758483cc",
   "metadata": {},
   "outputs": [
    {
     "name": "stdout",
     "output_type": "stream",
     "text": [
      "My na\n",
      "SAIFULLAH\n",
      "saifullah\n",
      "Saifullah\n",
      " Aizaz Khan \n",
      "['Saifullah', ' Aizaz', ' Khushal']\n",
      "My name is Saifullah Khan\n",
      "my name is Saifullah Khan and I'm 22\n"
     ]
    }
   ],
   "source": [
    "#String in python can be assigned to variables\n",
    "\"\"\"\n",
    "var = \"my name is saifullah\"\n",
    "if \"saifullah\" in var:        # basically we use the (in) to check if a certain word is present in the string\n",
    "    print(\"Saifullah is in the var\")      \n",
    "\"\"\"\n",
    "\n",
    "#Slicing in Python can be done using :\n",
    "var = \"My name is Saifullah Khan\"\n",
    "print(var[:5])\n",
    "\n",
    "#Converting a text to upper case or lower case\n",
    "var = \"Saifullah\"\n",
    "print(var.upper())\n",
    "print(var.lower())\n",
    "\n",
    "# removing whitespaces from front and end of a string\n",
    "str = \" Saifullah Khan \"\n",
    "print(var.strip())\n",
    "\n",
    "# replacing a certain word or character in a string can be done using the replace command\n",
    "print(str.replace(\"Saifullah\",\"Aizaz\"))\n",
    "\n",
    "#To split a string into a list you have to specify a seperator that will return a list form\n",
    "names = \"Saifullah, Aizaz, Khushal\"\n",
    "print(names.split(\",\"))\n",
    "\n",
    "#You can use + operator to concatenate to strings with each other\n",
    "str1 = \"My name is\"\n",
    "str2 = \"Saifullah Khan\"\n",
    "print(str1+\" \"+str2)\n",
    "\n",
    "#format strings\n",
    "# If you want to add a string followed by a number that can't be done using the usual strings\n",
    "#but you can do this now using the f-string just add the f command and a place holder {} for the variable you want\n",
    "# to add to the string\n",
    "\n",
    "age = 22\n",
    "str4 = f\"my name is Saifullah Khan and I'm {age}\" #you can add modifiers [:2f] or simple math or function in the place holder\n",
    "print(str4)\n",
    "\n"
   ]
  }
 ],
 "metadata": {
  "kernelspec": {
   "display_name": "base",
   "language": "python",
   "name": "python3"
  },
  "language_info": {
   "codemirror_mode": {
    "name": "ipython",
    "version": 3
   },
   "file_extension": ".py",
   "mimetype": "text/x-python",
   "name": "python",
   "nbconvert_exporter": "python",
   "pygments_lexer": "ipython3",
   "version": "3.12.4"
  }
 },
 "nbformat": 4,
 "nbformat_minor": 5
}
